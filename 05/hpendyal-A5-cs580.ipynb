{
 "cells": [
  {
   "cell_type": "markdown",
   "metadata": {},
   "source": [
    "# Assignment 5\n",
    "---\n",
    "### 1.\tPattern recognition\n",
    "\n",
    "In this assignment, you are asked to design a pattern recognition neural network to recognize handwriting digits (0-9). For example, the following sample represents a handwriting 9.\n",
    "\n",
    "    00000000000000000000000000000000\n",
    "    00000000000001111100000000000000\n",
    "    00000000000001111100000000000000\n",
    "    00000000001111111110000000000000\n",
    "    00000000011111111111111000000000\n",
    "    00000000011111111111111100000000\n",
    "    00000000111111111111111100000000\n",
    "    00000000111111111111111110000000\n",
    "    00000001111111100001111110000000\n",
    "    00000001111111000001111111000000\n",
    "    00000001111110000001111111000000\n",
    "    00000001111110000000111111000000\n",
    "    00000011111100000001111110000000\n",
    "    00000001111111000001111110000000\n",
    "    00000001111111110001111110000000\n",
    "    00000001111111111111111110000000\n",
    "    00000000001111111111111110000000\n",
    "    00000000001111111111111110000000\n",
    "    00000000000111111111111110000000\n",
    "    00000000000000111001111110000000\n",
    "    00000000000000000000111111000000\n",
    "    00000000000000000000111100000000\n",
    "    00000000000000000000111100000000\n",
    "    00000000000000000000111100000000\n",
    "    00000000000000000001111110000000\n",
    "    00000000000000000001111110000000\n",
    "    00000000001111100001111100000000\n",
    "    00000000001111111111111100000000\n",
    "    00000000001111111111111100000000\n",
    "    00000000011111111111111000000000\n",
    "    00000000000011111111111000000000\n",
    "    00000000000000001111110000000000\n",
    "\n",
    "The data file can be downloaded from\n",
    "\n",
    "https://archive.ics.uci.edu/ml/machine-learning-databases/optdigits/optdigits-orig.windep.Z\n",
    "\n",
    "\n",
    "The data file contains 1797 instances from 43 writers. The data is prepared by NIST to extract normalized bitmaps of handwritten digits from a preprinted form.\n",
    "\n",
    "***Task 1***: Encoding (50 pts)\n",
    "\n",
    "Unzip the data file from the link. Encode the data into input and target files for neural network training.\n",
    "\n",
    "***Task 2***: Neural Network Training (50 pts)\n",
    "\n",
    "Train the neural network (pattern net) based on your input/output files. Repeat with 10, 100, and 500 hidden nodes. Report your testing, training, and validation accuracy and provide analysis.\n",
    "\n",
    "***Bonus***: (10 pts)\n",
    "\n",
    "Using 1024 features for neural network is very cumbersome. Is there a way to reduce the number of features? If you have an idea, show me how effective it is.\n",
    "\n",
    "\n",
    "## ***Solution***\n",
    "### ***Task 1***: Encoding (50 pts)\n",
    "\n",
    "Unzip the data file from the link. Encode the data into input and target files for neural network training.\n",
    "\n",
    "#### ***Manual analysis***\n",
    "\n",
    "After manually analyzing the dataset file each digit takes around 33 lines.\n",
    "\n",
    "The label of the image is given on 34th line.\n"
   ]
  },
  {
   "cell_type": "code",
   "execution_count": 2,
   "metadata": {},
   "outputs": [],
   "source": [
    "#--- Import libraries\n",
    "import numpy as np\n",
    "import tensorflow as tf\n",
    "import pandas as pd\n",
    "import matplotlib.pyplot as plt\n",
    "import seaborn as sns\n",
    "from matplotlib.pyplot import *             \n",
    "from sklearn.model_selection import train_test_split      #--- Test Train Split"
   ]
  },
  {
   "cell_type": "code",
   "execution_count": 5,
   "metadata": {},
   "outputs": [],
   "source": [
    "#--- helper functions\n",
    "def image2Vector(image):\n",
    "  \"\"\"\n",
    "  Argument:\n",
    "  image -- a numpy array of shape (length, height, depth)  \n",
    "  Returns:\n",
    "  v -- a vector of shape (length*height*depth, 1)\n",
    "  \"\"\"  \n",
    "  v = image.reshape(image.shape[0]*image.shape[1],1)\n",
    "  #print(v.shape)\n",
    "  return v\n",
    "\n",
    "#--- Plot the accuracy and loss\n",
    "def plotTrainValMetrics(history, nodes):\n",
    "    accTitle = 'model accuracy for '+str(nodes)+' Nodes'\n",
    "    lossTitle = 'model loss for '+str(nodes)+' Nodes'\n",
    "    # summarize history for accuracy\n",
    "    plt.figure(figsize=(12,6))\n",
    "    plt.plot(history.history['acc'])\n",
    "    plt.plot(history.history['val_acc'])\n",
    "    plt.title(accTitle)\n",
    "    plt.ylabel('accuracy')\n",
    "    plt.xlabel('epoch')\n",
    "    plt.legend(['train', 'validation'], loc='upper left')\n",
    "    plt.show()\n",
    "\n",
    "  # summarize history for loss\n",
    "    plt.figure(figsize=(12,6))\n",
    "    plt.plot(history.history['loss'])\n",
    "    plt.plot(history.history['val_loss'])\n",
    "    plt.title(lossTitle)\n",
    "    plt.ylabel('loss')\n",
    "    plt.xlabel('epoch')\n",
    "    plt.legend(['train', 'validation'], loc='upper left')\n",
    "    plt.show()"
   ]
  },
  {
   "cell_type": "code",
   "execution_count": 6,
   "metadata": {},
   "outputs": [],
   "source": [
    "#--- Task 1\n",
    "#--- Unzip the data file from the link. Encode the data into input and target files for neural network training.\n",
    "zipPath = './optdigits-orig.windep.Z'\n",
    "filePath = './optdigits-orig.windep'\n",
    "inputfilesPath = './input_data.csv'\n",
    "targetfilesPath = './target_data.csv'"
   ]
  },
  {
   "cell_type": "code",
   "execution_count": 7,
   "metadata": {},
   "outputs": [],
   "source": [
    "#------ open and read the file\n",
    "dg_file=open(filePath,'r')\n",
    "dg_file.seek(22)\n",
    "\n",
    "data = []\n",
    "image = []\n",
    "images = []\n",
    "ivec = []\n",
    "labels = []\n",
    "count = 1\n",
    "for line in dg_file.readlines():\n",
    "    if(len(line)==33):#--- input data\n",
    "        #print(line)\n",
    "        arr = []\n",
    "        line = line.rstrip('\\n')\n",
    "        for c in line:\n",
    "            arr.append(int(c))\n",
    "        image.append(arr)\n",
    "        #count+=1\n",
    "    elif(len(line)==3): #--- Label\n",
    "        # print('----------- IN LABEL-------')\n",
    "        # print(count)\n",
    "        digit=str(line)\n",
    "        digit=digit.strip()\n",
    "        labels.append(int(digit))\n",
    "        data = np.array(image)\n",
    "        temp = image2Vector(data)\n",
    "        ivec.append(temp)\n",
    "        image = []\n",
    "        data = []\n",
    "        count = 1\n",
    "        #break\n",
    "        #print(digit)\n",
    "    count+=1\n",
    "\n",
    "ivec = np.array(ivec)\n",
    "labels = np.array(labels).T"
   ]
  },
  {
   "cell_type": "code",
   "execution_count": 8,
   "metadata": {},
   "outputs": [
    {
     "name": "stdout",
     "output_type": "stream",
     "text": [
      "No of Input Samples :  1797\n",
      "No of Target Samples :  1797\n",
      "Shape of Inputs :  (1797, 1024, 1)\n",
      "Shape of Targets :  (1797,)\n"
     ]
    }
   ],
   "source": [
    "print('No of Input Samples : ',len(ivec)) \n",
    "print('No of Target Samples : ',len(labels))\n",
    "#---- Shapes of the arrays\n",
    "print('Shape of Inputs : ',ivec.shape)\n",
    "print('Shape of Targets : ',labels.shape)"
   ]
  },
  {
   "cell_type": "code",
   "execution_count": 9,
   "metadata": {},
   "outputs": [
    {
     "name": "stdout",
     "output_type": "stream",
     "text": [
      "Shape of sample \" 1795 \" :  (1024, 1)\n",
      "Length of sample \" 1795 \" :  1024\n",
      "Label of sample \" 1795 \" :  9\n",
      "Below is the image of label\n"
     ]
    },
    {
     "data": {
      "image/png": "[encoded data removed]",
      "text/plain": [
       "<Figure size 432x288 with 1 Axes>"
      ]
     },
     "metadata": {
      "needs_background": "light"
     },
     "output_type": "display_data"
    }
   ],
   "source": [
    "#---- Validate the data\n",
    "index = 1795\n",
    "print('Shape of sample \"',index,'\" : ',ivec[index].shape)\n",
    "print('Length of sample \"',index,'\" : ',len(ivec[index]))\n",
    "print('Label of sample \"',index,'\" : ',labels[index])\n",
    "#--- displaying image from encoded data\n",
    "print('Below is the image of label')\n",
    "mat =ivec[index].reshape(32,32)\n",
    "#print(mat)    #--- Matrix of image 32*32\n",
    "plt.imshow(mat, cmap=plt.cm.binary)\n",
    "plt.show()"
   ]
  },
  {
   "cell_type": "code",
   "execution_count": 10,
   "metadata": {},
   "outputs": [
    {
     "name": "stdout",
     "output_type": "stream",
     "text": [
      "CPU times: user 16.9 s, sys: 398 ms, total: 17.3 s\n",
      "Wall time: 17.4 s\n"
     ]
    }
   ],
   "source": [
    "%%time\n",
    "#----- Saving the labels(Targets)\n",
    "labelsdf = pd.DataFrame(data = labels, columns=['class'])\n",
    "labelsdf.to_csv(targetfilesPath)\n",
    "#labelsdf\n",
    "\n",
    "#----- Saving the Features(Inputs)\n",
    "inputsdf = pd.DataFrame(columns=range(len(ivec[0])))\n",
    "for i in range(len(ivec)):                        #---- Create a dataframe by adding each image sample\n",
    "    inputsdf[i] = ivec[i].reshape(ivec[i].shape[0])\n",
    "inputsdf = inputsdf.T                             #---- Transpose the matrix to get all the samples rowise\n",
    "inputsdf.to_csv(inputfilesPath)\n",
    "#inputsdf"
   ]
  },
  {
   "cell_type": "code",
   "execution_count": 11,
   "metadata": {},
   "outputs": [
    {
     "data": {
      "text/html": [
       "<div>\n",
       "<style scoped>\n",
       "    .dataframe tbody tr th:only-of-type {\n",
       "        vertical-align: middle;\n",
       "    }\n",
       "\n",
       "    .dataframe tbody tr th {\n",
       "        vertical-align: top;\n",
       "    }\n",
       "\n",
       "    .dataframe thead th {\n",
       "        text-align: right;\n",
       "    }\n",
       "</style>\n",
       "<table border=\"1\" class=\"dataframe\">\n",
       "  <thead>\n",
       "    <tr style=\"text-align: right;\">\n",
       "      <th></th>\n",
       "      <th>0</th>\n",
       "      <th>1</th>\n",
       "      <th>2</th>\n",
       "      <th>3</th>\n",
       "      <th>4</th>\n",
       "      <th>5</th>\n",
       "      <th>6</th>\n",
       "      <th>7</th>\n",
       "      <th>8</th>\n",
       "      <th>9</th>\n",
       "      <th>...</th>\n",
       "      <th>1014</th>\n",
       "      <th>1015</th>\n",
       "      <th>1016</th>\n",
       "      <th>1017</th>\n",
       "      <th>1018</th>\n",
       "      <th>1019</th>\n",
       "      <th>1020</th>\n",
       "      <th>1021</th>\n",
       "      <th>1022</th>\n",
       "      <th>1023</th>\n",
       "    </tr>\n",
       "  </thead>\n",
       "  <tbody>\n",
       "    <tr>\n",
       "      <td>0</td>\n",
       "      <td>0</td>\n",
       "      <td>0</td>\n",
       "      <td>0</td>\n",
       "      <td>0</td>\n",
       "      <td>0</td>\n",
       "      <td>0</td>\n",
       "      <td>0</td>\n",
       "      <td>0</td>\n",
       "      <td>0</td>\n",
       "      <td>0</td>\n",
       "      <td>...</td>\n",
       "      <td>0</td>\n",
       "      <td>0</td>\n",
       "      <td>0</td>\n",
       "      <td>0</td>\n",
       "      <td>0</td>\n",
       "      <td>0</td>\n",
       "      <td>0</td>\n",
       "      <td>0</td>\n",
       "      <td>0</td>\n",
       "      <td>0</td>\n",
       "    </tr>\n",
       "    <tr>\n",
       "      <td>1</td>\n",
       "      <td>0</td>\n",
       "      <td>0</td>\n",
       "      <td>0</td>\n",
       "      <td>0</td>\n",
       "      <td>0</td>\n",
       "      <td>0</td>\n",
       "      <td>0</td>\n",
       "      <td>0</td>\n",
       "      <td>0</td>\n",
       "      <td>0</td>\n",
       "      <td>...</td>\n",
       "      <td>0</td>\n",
       "      <td>0</td>\n",
       "      <td>0</td>\n",
       "      <td>0</td>\n",
       "      <td>0</td>\n",
       "      <td>0</td>\n",
       "      <td>0</td>\n",
       "      <td>0</td>\n",
       "      <td>0</td>\n",
       "      <td>0</td>\n",
       "    </tr>\n",
       "    <tr>\n",
       "      <td>2</td>\n",
       "      <td>0</td>\n",
       "      <td>0</td>\n",
       "      <td>0</td>\n",
       "      <td>0</td>\n",
       "      <td>0</td>\n",
       "      <td>0</td>\n",
       "      <td>0</td>\n",
       "      <td>0</td>\n",
       "      <td>0</td>\n",
       "      <td>0</td>\n",
       "      <td>...</td>\n",
       "      <td>1</td>\n",
       "      <td>1</td>\n",
       "      <td>1</td>\n",
       "      <td>0</td>\n",
       "      <td>0</td>\n",
       "      <td>0</td>\n",
       "      <td>0</td>\n",
       "      <td>0</td>\n",
       "      <td>0</td>\n",
       "      <td>0</td>\n",
       "    </tr>\n",
       "    <tr>\n",
       "      <td>3</td>\n",
       "      <td>0</td>\n",
       "      <td>0</td>\n",
       "      <td>0</td>\n",
       "      <td>0</td>\n",
       "      <td>0</td>\n",
       "      <td>0</td>\n",
       "      <td>0</td>\n",
       "      <td>0</td>\n",
       "      <td>0</td>\n",
       "      <td>0</td>\n",
       "      <td>...</td>\n",
       "      <td>0</td>\n",
       "      <td>0</td>\n",
       "      <td>0</td>\n",
       "      <td>0</td>\n",
       "      <td>0</td>\n",
       "      <td>0</td>\n",
       "      <td>0</td>\n",
       "      <td>0</td>\n",
       "      <td>0</td>\n",
       "      <td>0</td>\n",
       "    </tr>\n",
       "    <tr>\n",
       "      <td>4</td>\n",
       "      <td>0</td>\n",
       "      <td>0</td>\n",
       "      <td>0</td>\n",
       "      <td>0</td>\n",
       "      <td>0</td>\n",
       "      <td>0</td>\n",
       "      <td>0</td>\n",
       "      <td>0</td>\n",
       "      <td>0</td>\n",
       "      <td>0</td>\n",
       "      <td>...</td>\n",
       "      <td>0</td>\n",
       "      <td>0</td>\n",
       "      <td>0</td>\n",
       "      <td>0</td>\n",
       "      <td>0</td>\n",
       "      <td>0</td>\n",
       "      <td>0</td>\n",
       "      <td>0</td>\n",
       "      <td>0</td>\n",
       "      <td>0</td>\n",
       "    </tr>\n",
       "  </tbody>\n",
       "</table>\n",
       "<p>5 rows × 1024 columns</p>\n",
       "</div>"
      ],
      "text/plain": [
       "   0     1     2     3     4     5     6     7     8     9     ...  1014  \\\n",
       "0     0     0     0     0     0     0     0     0     0     0  ...     0   \n",
       "1     0     0     0     0     0     0     0     0     0     0  ...     0   \n",
       "2     0     0     0     0     0     0     0     0     0     0  ...     1   \n",
       "3     0     0     0     0     0     0     0     0     0     0  ...     0   \n",
       "4     0     0     0     0     0     0     0     0     0     0  ...     0   \n",
       "\n",
       "   1015  1016  1017  1018  1019  1020  1021  1022  1023  \n",
       "0     0     0     0     0     0     0     0     0     0  \n",
       "1     0     0     0     0     0     0     0     0     0  \n",
       "2     1     1     0     0     0     0     0     0     0  \n",
       "3     0     0     0     0     0     0     0     0     0  \n",
       "4     0     0     0     0     0     0     0     0     0  \n",
       "\n",
       "[5 rows x 1024 columns]"
      ]
     },
     "execution_count": 11,
     "metadata": {},
     "output_type": "execute_result"
    }
   ],
   "source": [
    "inputsdf.head()"
   ]
  },
  {
   "cell_type": "code",
   "execution_count": 12,
   "metadata": {},
   "outputs": [
    {
     "data": {
      "text/html": [
       "<div>\n",
       "<style scoped>\n",
       "    .dataframe tbody tr th:only-of-type {\n",
       "        vertical-align: middle;\n",
       "    }\n",
       "\n",
       "    .dataframe tbody tr th {\n",
       "        vertical-align: top;\n",
       "    }\n",
       "\n",
       "    .dataframe thead th {\n",
       "        text-align: right;\n",
       "    }\n",
       "</style>\n",
       "<table border=\"1\" class=\"dataframe\">\n",
       "  <thead>\n",
       "    <tr style=\"text-align: right;\">\n",
       "      <th></th>\n",
       "      <th>class</th>\n",
       "    </tr>\n",
       "  </thead>\n",
       "  <tbody>\n",
       "    <tr>\n",
       "      <td>0</td>\n",
       "      <td>0</td>\n",
       "    </tr>\n",
       "    <tr>\n",
       "      <td>1</td>\n",
       "      <td>1</td>\n",
       "    </tr>\n",
       "    <tr>\n",
       "      <td>2</td>\n",
       "      <td>2</td>\n",
       "    </tr>\n",
       "    <tr>\n",
       "      <td>3</td>\n",
       "      <td>3</td>\n",
       "    </tr>\n",
       "    <tr>\n",
       "      <td>4</td>\n",
       "      <td>4</td>\n",
       "    </tr>\n",
       "  </tbody>\n",
       "</table>\n",
       "</div>"
      ],
      "text/plain": [
       "   class\n",
       "0      0\n",
       "1      1\n",
       "2      2\n",
       "3      3\n",
       "4      4"
      ]
     },
     "execution_count": 12,
     "metadata": {},
     "output_type": "execute_result"
    }
   ],
   "source": [
    "labelsdf.head()"
   ]
  },
  {
   "cell_type": "code",
   "execution_count": 13,
   "metadata": {},
   "outputs": [
    {
     "name": "stdout",
     "output_type": "stream",
     "text": [
      "The below image is assigned to  class    8\n",
      "Name: 1794, dtype: int64\n"
     ]
    },
    {
     "data": {
      "image/png": "[encoded data removed]",
      "text/plain": [
       "<Figure size 432x288 with 1 Axes>"
      ]
     },
     "metadata": {
      "needs_background": "light"
     },
     "output_type": "display_data"
    }
   ],
   "source": [
    "#---- validating the data\n",
    "index = 1794\n",
    "mat = np.array(inputsdf.loc[index]).reshape(32,32)\n",
    "print('The below image is assigned to ',labelsdf.loc[index])\n",
    "plt.imshow(mat, cmap=plt.cm.binary)\n",
    "plt.show()"
   ]
  },
  {
   "cell_type": "markdown",
   "metadata": {},
   "source": [
    "### ***Task 2***: Neural Network Training (50 pts)\n",
    "\n",
    "Train the neural network (pattern net) based on your input/output files. Repeat with 10, 100, and 500 hidden nodes. Report your testing, training, and validation accuracy and provide analysis."
   ]
  },
  {
   "cell_type": "code",
   "execution_count": 14,
   "metadata": {},
   "outputs": [
    {
     "name": "stdout",
     "output_type": "stream",
     "text": [
      "Shape of X_Train :  (1437, 1024)\n",
      "Shape of Y_Train :  (1437, 1)\n",
      "Shape of X_Val :  (180, 1024)\n",
      "Shape of y_Val :  (180, 1)\n",
      "Shape of X_Test :  (180, 1024)\n",
      "Shape of y_Test :  (180, 1)\n"
     ]
    }
   ],
   "source": [
    "#----- Test train Split\n",
    "#----- 80% - Train, 10% - Validation, 10% - Test\n",
    "x_train,x_val,y_train, y_val = train_test_split(inputsdf,labelsdf,test_size=0.2) #--- dividing Data into 80 % Train and 20% validation\n",
    "x_val,x_test,y_val, y_test = train_test_split(x_val,y_val,test_size=0.5) #--- further dividing validation into 10 % validation and 10% test\n",
    "print('Shape of X_Train : ',x_train.shape)\n",
    "print('Shape of Y_Train : ',y_train.shape)\n",
    "print('Shape of X_Val : ',x_val.shape)\n",
    "print('Shape of y_Val : ',y_val.shape)\n",
    "print('Shape of X_Test : ',x_test.shape)\n",
    "print('Shape of y_Test : ',y_test.shape)"
   ]
  },
  {
   "cell_type": "code",
   "execution_count": 15,
   "metadata": {},
   "outputs": [],
   "source": [
    "#---- Please provide as model inputs either a single array or a list of arrays For Keras\n",
    "trainx = np.array(x_train)\n",
    "trainy = np.array(y_train)\n",
    "valx = np.array(x_val)\n",
    "valy = np.array(y_val)\n",
    "testx = np.array(x_test)\n",
    "testy = np.array(y_test)"
   ]
  },
  {
   "cell_type": "code",
   "execution_count": 16,
   "metadata": {},
   "outputs": [],
   "source": [
    "#---- scaling the values -- Normalizing\n",
    "trainx = tf.keras.utils.normalize(trainx, axis=1)\n",
    "valx = tf.keras.utils.normalize(valx, axis=1)\n",
    "testx = tf.keras.utils.normalize(testx, axis=1)\n",
    "trainy = tf.keras.utils.normalize(trainy, axis=1)\n",
    "valy = tf.keras.utils.normalize(valy, axis=1)\n",
    "testy = tf.keras.utils.normalize(testy, axis=1)"
   ]
  },
  {
   "cell_type": "markdown",
   "metadata": {},
   "source": [
    "### ***Building a Model***"
   ]
  },
  {
   "cell_type": "code",
   "execution_count": 17,
   "metadata": {},
   "outputs": [],
   "source": [
    "\"\"\"\n",
    "nH - Number of Hidden Nodes\n",
    "\"\"\"\n",
    "def getModel(nH):\n",
    "    #---- Building the model\n",
    "    model = tf.keras.models.Sequential()\n",
    "    model.add(tf.keras.layers.Flatten()) #----- flatten the input data before gettting to hiddenlayer\n",
    "    model.add(tf.keras.layers.Dense(nH,activation= tf.nn.relu)) #--- dense layer is hidden layer with pararmeters nH neurons with relu activation function \n",
    "    model.add(tf.keras.layers.Dense(10,activation= tf.nn.softmax))\n",
    "    return model\n",
    "\n",
    "# #---- Parameters for training\n",
    "# model.compile(optimizer='adam',\n",
    "#               loss='sparse_categorical_crossentropy',\n",
    "#               metrics = ['accuracy'])\n",
    "\n",
    "# #---- Train the model\n",
    "# model.fit(trainx, trainy, epochs=10)"
   ]
  },
  {
   "cell_type": "markdown",
   "metadata": {},
   "source": [
    "#### ***For 10 Hidden Nodes***"
   ]
  },
  {
   "cell_type": "code",
   "execution_count": 18,
   "metadata": {},
   "outputs": [
    {
     "name": "stdout",
     "output_type": "stream",
     "text": [
      "WARNING:tensorflow:From /home/heramb/anaconda3/lib/python3.7/site-packages/tensorflow_core/python/ops/resource_variable_ops.py:1630: calling BaseResourceVariable.__init__ (from tensorflow.python.ops.resource_variable_ops) with constraint is deprecated and will be removed in a future version.\n",
      "Instructions for updating:\n",
      "If using Keras pass *_constraint arguments to layers.\n",
      "Train on 1437 samples, validate on 180 samples\n",
      "Epoch 1/3\n",
      "1437/1437 [==============================] - 0s 287us/sample - loss: 1.8848 - acc: 0.6945 - val_loss: 1.3717 - val_acc: 0.9222\n",
      "Epoch 2/3\n",
      "1437/1437 [==============================] - 0s 94us/sample - loss: 0.9516 - acc: 0.8977 - val_loss: 0.5686 - val_acc: 0.9222\n",
      "Epoch 3/3\n",
      "1437/1437 [==============================] - 0s 82us/sample - loss: 0.4934 - acc: 0.8977 - val_loss: 0.3622 - val_acc: 0.9222\n"
     ]
    }
   ],
   "source": [
    "model1 = getModel(10)\n",
    "#---- Parameters for training\n",
    "model1.compile(optimizer='adam',\n",
    "              loss='sparse_categorical_crossentropy',\n",
    "              metrics = ['accuracy'])\n",
    "#---- Train the model\n",
    "history1 = model1.fit(trainx, trainy, validation_data=(valx,valy), epochs=3)\n"
   ]
  },
  {
   "cell_type": "code",
   "execution_count": 19,
   "metadata": {},
   "outputs": [
    {
     "name": "stdout",
     "output_type": "stream",
     "text": [
      "180/180 [==============================] - 0s 62us/sample - loss: 0.4025 - acc: 0.9056\n",
      "--> Testing Loss :  0.40253809955384995 . Testing Accuracy :  0.90555555\n"
     ]
    }
   ],
   "source": [
    "#------ Check for overfitting\n",
    "test_loss, test_acc = model1.evaluate(testx,testy)\n",
    "print('--> Testing Loss : ',test_loss,'. Testing Accuracy : ',test_acc)"
   ]
  },
  {
   "cell_type": "code",
   "execution_count": 22,
   "metadata": {},
   "outputs": [],
   "source": [
    "##--- saving and loading the model back\n",
    "model1_path = './tc01-10-03.model'\n",
    "model1.save(model1_path)\n",
    "##---- reload the model\n",
    "#new_model = tf.keras.models.load_model(model1_path)\n",
    "##---- Predicting the model\n",
    "#predictions = new_model.predict([testx])"
   ]
  },
  {
   "cell_type": "markdown",
   "metadata": {},
   "source": [
    "#### ***For 100 Hidden Nodes***"
   ]
  },
  {
   "cell_type": "code",
   "execution_count": 23,
   "metadata": {},
   "outputs": [
    {
     "name": "stdout",
     "output_type": "stream",
     "text": [
      "Train on 1437 samples, validate on 180 samples\n",
      "Epoch 1/3\n",
      "1437/1437 [==============================] - 0s 346us/sample - loss: 0.9300 - acc: 0.8664 - val_loss: 0.2505 - val_acc: 0.9222\n",
      "Epoch 2/3\n",
      "1437/1437 [==============================] - 0s 104us/sample - loss: 0.2200 - acc: 0.9005 - val_loss: 0.1233 - val_acc: 0.9444\n",
      "Epoch 3/3\n",
      "1437/1437 [==============================] - 0s 107us/sample - loss: 0.1122 - acc: 0.9694 - val_loss: 0.0637 - val_acc: 0.9944\n"
     ]
    }
   ],
   "source": [
    "model2 = getModel(100)\n",
    "#---- Parameters for training\n",
    "model2.compile(optimizer='adam',\n",
    "              loss='sparse_categorical_crossentropy',\n",
    "              metrics = ['accuracy'])\n",
    "#---- Train the model\n",
    "history2 = model2.fit(trainx, trainy, validation_data=(valx,valy), epochs=3)"
   ]
  },
  {
   "cell_type": "code",
   "execution_count": 24,
   "metadata": {},
   "outputs": [
    {
     "name": "stdout",
     "output_type": "stream",
     "text": [
      "180/180 [==============================] - 0s 64us/sample - loss: 0.0822 - acc: 0.9889\n",
      "--> Testing Loss :  0.08220814814170202 . Testing Accuracy :  0.98888886\n"
     ]
    }
   ],
   "source": [
    "#------ Check for overfitting\n",
    "test_loss, test_acc = model2.evaluate(testx,testy)\n",
    "print('--> Testing Loss : ',test_loss,'. Testing Accuracy : ',test_acc)"
   ]
  },
  {
   "cell_type": "code",
   "execution_count": 26,
   "metadata": {},
   "outputs": [],
   "source": [
    "##--- saving and loading the model back\n",
    "model2_path = './tc02-100-03.model'\n",
    "model2.save(model2_path)\n",
    "##---- reload the model\n",
    "#new_model = tf.keras.models.load_model(model_path)\n",
    "##---- Predicting the model\n",
    "#predictions = new_model.predict([testx])"
   ]
  },
  {
   "cell_type": "markdown",
   "metadata": {},
   "source": [
    "#### ***For 500 Hidden Nodes***"
   ]
  },
  {
   "cell_type": "code",
   "execution_count": 27,
   "metadata": {},
   "outputs": [
    {
     "name": "stdout",
     "output_type": "stream",
     "text": [
      "Train on 1437 samples, validate on 180 samples\n",
      "Epoch 1/3\n",
      "1437/1437 [==============================] - 1s 480us/sample - loss: 0.5381 - acc: 0.8859 - val_loss: 0.1015 - val_acc: 0.9667\n",
      "Epoch 2/3\n",
      "1437/1437 [==============================] - 0s 187us/sample - loss: 0.0725 - acc: 0.9868 - val_loss: 0.0310 - val_acc: 1.0000\n",
      "Epoch 3/3\n",
      "1437/1437 [==============================] - 0s 171us/sample - loss: 0.0294 - acc: 0.9972 - val_loss: 0.0157 - val_acc: 1.0000\n"
     ]
    }
   ],
   "source": [
    "model3 = getModel(500)\n",
    "#---- Parameters for training\n",
    "model3.compile(optimizer='adam',\n",
    "              loss='sparse_categorical_crossentropy',\n",
    "              metrics = ['accuracy'])\n",
    "#---- Train the model\n",
    "history3 = model3.fit(trainx, trainy, validation_data=(valx,valy), epochs=3)"
   ]
  },
  {
   "cell_type": "code",
   "execution_count": 28,
   "metadata": {},
   "outputs": [
    {
     "name": "stdout",
     "output_type": "stream",
     "text": [
      "180/180 [==============================] - 0s 80us/sample - loss: 0.0287 - acc: 0.9889\n",
      "--> Testing Loss :  0.028749140269226498 . Testing Accuracy :  0.98888886\n"
     ]
    }
   ],
   "source": [
    "#------ Check for overfitting\n",
    "test_loss, test_acc = model3.evaluate(testx,testy)\n",
    "print('--> Testing Loss : ',test_loss,'. Testing Accuracy : ',test_acc)"
   ]
  },
  {
   "cell_type": "code",
   "execution_count": 29,
   "metadata": {},
   "outputs": [],
   "source": [
    "##--- saving and loading the model back\n",
    "model3_path = './tc03-500-03.model'\n",
    "model3.save(model3_path)\n",
    "##---- reload the model\n",
    "#new_model = tf.keras.models.load_model(model_path)\n",
    "##---- Predicting the model\n",
    "#predictions = new_model.predict([testx])"
   ]
  },
  {
   "cell_type": "code",
   "execution_count": 30,
   "metadata": {},
   "outputs": [
    {
     "name": "stdout",
     "output_type": "stream",
     "text": [
      "dict_keys(['loss', 'acc', 'val_loss', 'val_acc'])\n"
     ]
    },
    {
     "data": {
      "image/png": "[encoded data removed]",
      "text/plain": [
       "<Figure size 864x432 with 1 Axes>"
      ]
     },
     "metadata": {
      "needs_background": "light"
     },
     "output_type": "display_data"
    },
    {
     "data": {
      "image/png": "[encoded data removed]",
      "text/plain": [
       "<Figure size 864x432 with 1 Axes>"
      ]
     },
     "metadata": {
      "needs_background": "light"
     },
     "output_type": "display_data"
    }
   ],
   "source": [
    "print(history1.history.keys())\n",
    "plotTrainValMetrics(history1, 10)"
   ]
  },
  {
   "cell_type": "code",
   "execution_count": 31,
   "metadata": {},
   "outputs": [
    {
     "name": "stdout",
     "output_type": "stream",
     "text": [
      "dict_keys(['loss', 'acc', 'val_loss', 'val_acc'])\n"
     ]
    },
    {
     "data": {
      "image/png": "[encoded data removed]",
      "text/plain": [
       "<Figure size 864x432 with 1 Axes>"
      ]
     },
     "metadata": {
      "needs_background": "light"
     },
     "output_type": "display_data"
    },
    {
     "data": {
      "image/png": "[encoded data removed]",
      "text/plain": [
       "<Figure size 864x432 with 1 Axes>"
      ]
     },
     "metadata": {
      "needs_background": "light"
     },
     "output_type": "display_data"
    }
   ],
   "source": [
    "print(history2.history.keys())\n",
    "plotTrainValMetrics(history2, 100)"
   ]
  },
  {
   "cell_type": "code",
   "execution_count": 32,
   "metadata": {},
   "outputs": [
    {
     "name": "stdout",
     "output_type": "stream",
     "text": [
      "dict_keys(['loss', 'acc', 'val_loss', 'val_acc'])\n"
     ]
    },
    {
     "data": {
      "image/png": "[encoded data removed]",
      "text/plain": [
       "<Figure size 864x432 with 1 Axes>"
      ]
     },
     "metadata": {
      "needs_background": "light"
     },
     "output_type": "display_data"
    },
    {
     "data": {
      "image/png": "[encoded data removed]",
      "text/plain": [
       "<Figure size 864x432 with 1 Axes>"
      ]
     },
     "metadata": {
      "needs_background": "light"
     },
     "output_type": "display_data"
    }
   ],
   "source": [
    "print(history3.history.keys())\n",
    "plotTrainValMetrics(history3, 500)"
   ]
  },
  {
   "cell_type": "markdown",
   "metadata": {},
   "source": [
    "### ***Analysis***\n",
    "\n",
    "Below table gives us the analysis of the above used models when we use 10, 100, 500 hidden nodes for 3 epochs. \n",
    "\n",
    "***Model Loss***\n",
    "\n",
    "<table>\n",
    "  <tr>\n",
    "    <th rowspan=\"2\"> Loss </th> \n",
    "    <th colspan=\"3\"> No of Hidden Nodes </th>\n",
    "  </tr>\n",
    "  <tr>\n",
    "    <th>10</th>\n",
    "    <th>100</th>\n",
    "    <th>500</th>\n",
    "  </tr>\n",
    "  <tr>\n",
    "    <td>Training</td>\n",
    "    <td>0.4617</td>\n",
    "    <td>0.1252</td>\n",
    "    <td>0.0285</td>\n",
    "  </tr>\n",
    "  <tr>\n",
    "    <td>Validation</td>\n",
    "    <td>0.4389</td>\n",
    "    <td>0.0926</td>\n",
    "    <td>0.0220</td>\n",
    "  </tr>\n",
    "  <tr>\n",
    "    <td>testing</td>\n",
    "    <td>0.4037</td>\n",
    "    <td>0.1035</td>\n",
    "    <td>0.0364</td>\n",
    "  </tr>\n",
    "</table>\n",
    "\n",
    "\n",
    "***Model Accuracy***\n",
    "\n",
    "<table>\n",
    "  <tr>\n",
    "    <th rowspan=\"2\"> Accuracy (%) </th> \n",
    "    <th colspan=\"3\"> No of Hidden Nodes </th>\n",
    "  </tr>\n",
    "  <tr>\n",
    "    <th>10</th>\n",
    "    <th>100</th>\n",
    "    <th>500</th>\n",
    "  </tr>\n",
    "  <tr>\n",
    "    <td>Training</td>\n",
    "    <td>90.19</td>\n",
    "    <td>95.48</td>\n",
    "    <td>99.65</td>\n",
    "  </tr>\n",
    "  <tr>\n",
    "    <td>Validation</td>\n",
    "    <td>88.89</td>\n",
    "    <td>98.33</td>\n",
    "    <td>99.44</td>\n",
    "  </tr>\n",
    "  <tr>\n",
    "    <td>testing</td>\n",
    "    <td>90.55</td>\n",
    "    <td>98.33</td>\n",
    "    <td>99.44</td>\n",
    "  </tr>\n",
    "</table>\n",
    "\n",
    "we can see that as we increased the nodes from 10 to 100 we get a better accuracy. so we can see that we can improve the perfromance of the network by increasing the number of nodes.\n",
    "\n",
    "we can see from the above plots that for 3 epochs we can see that the performance of the network increases gradually from 10 to 100 nodes where as it does not make much difference when we see for 500 nodes.\n",
    "\n",
    "### ***Observations*** \n",
    "1. we can still imporve the performance of the 10 node network by increasing the number of epochs\n",
    "2. we can also reduce the features from 1024 to some lower number as the network becomes very cumber some. some of the ways are given below. \n",
    "    1. Using sliding window technique to get the features using the concept of convolutional neural network.\n",
    "    2. Using maxpooling to get the important features before applyin it to the input layer.\n",
    "    3. We can increase the number of hidden layers instead of increasing the hidden nodes in one layer.\n",
    "\n",
    "\n",
    "Below are some of the examples of how the image features are used in real world:\n",
    "\n",
    "***1. Convolution*** : \n",
    "<p align=\"center\">\n",
    "<img src=\"https://media0.giphy.com/media/i4NjAwytgIRDW/giphy.gif\" width=\"450\" height=\"250\" /></p>\n",
    "\n",
    "In the above demonstration, the green section resembles our 5x5x1 input image, I. The element involved in carrying out the convolution operation in the first part of a Convolutional Layer is called the Kernel/Filter, K, represented in the color yellow. We have selected K as a 3x3x1 matrix.\n",
    "\n",
    "***2. Pooling*** : \n",
    "<div class=\"fig figcenter fighighlight\">\n",
    "  <img src=\"http://cs231n.github.io/assets/cnn/pool.jpeg\" width=\"36%\">\n",
    "  <img src=\"http://cs231n.github.io/assets/cnn/maxpool.jpeg\" width=\"59%\" style=\"border-left: 1px solid black;\">\n",
    "  <div class=\"figcaption\">\n",
    "    Pooling layer downsamples the volume spatially, independently in each depth slice of the input volume. <b>Left:</b> In this example, the input volume of size [224x224x64] is pooled with filter size 2, stride 2 into output volume of size [112x112x64]. Notice that the volume depth is preserved. <b>Right:</b> The most common downsampling operation is max, giving rise to <b>max pooling</b>, here shown with a stride of 2. That is, each max is taken over 4 numbers (little 2x2 square).\n",
    "  </div>\n",
    "</div>\n",
    "\n",
    "***3. Convolutional Neural Network***\n",
    "\n",
    "  Convolutional neural network applies the concept of convolution and pooling to generate the features while reducing the dimensionality of the input image.\n",
    "<p align=\"center\">\n",
    "<img src=\"https://mlnotebook.github.io/img/CNN/convSobel.gif\" width=\"450\" height=\"450\" /></p>\n",
    "\n",
    "The pre-processing required in a ConvNet is much lower as compared to other classification algorithms. While in primitive methods filters are hand-engineered, with enough training, ConvNets have the ability to learn these filters/characteristics.\n",
    "\n",
    "The architecture of a ConvNet is analogous to that of the connectivity pattern of Neurons in the Human Brain and was inspired by the organization of the Visual Cortex. Individual neurons respond to stimuli only in a restricted region of the visual field known as the Receptive Field. A collection of such fields overlap to cover the entire visual area.\n",
    "\n",
    "<p align=\"center\">\n",
    "<img src=\"https://miro.medium.com/max/1644/1*uAeANQIOQPqWZnnuH-VEyw.jpeg\" width=\"750\" height=\"450\" /></p>\n",
    "\n",
    "\n",
    "### Reference : \n",
    "1. http://cs231n.github.io/convolutional-networks/\n",
    "2. https://towardsdatascience.com/a-comprehensive-guide-to-convolutional-neural-networks-the-eli5-way-3bd2b1164a53"
   ]
  },
  {
   "cell_type": "code",
   "execution_count": null,
   "metadata": {},
   "outputs": [],
   "source": []
  }
 ],
 "metadata": {
  "kernelspec": {
   "display_name": "Python 3",
   "language": "python",
   "name": "python3"
  },
  "language_info": {
   "codemirror_mode": {
    "name": "ipython",
    "version": 3
   },
   "file_extension": ".py",
   "mimetype": "text/x-python",
   "name": "python",
   "nbconvert_exporter": "python",
   "pygments_lexer": "ipython3",
   "version": "3.7.4"
  }
 },
 "nbformat": 4,
 "nbformat_minor": 2
}
